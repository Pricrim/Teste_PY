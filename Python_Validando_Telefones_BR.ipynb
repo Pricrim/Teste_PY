{
  "nbformat": 4,
  "nbformat_minor": 0,
  "metadata": {
    "colab": {
      "name": "Python - Validando Telefones BR",
      "provenance": [],
      "authorship_tag": "ABX9TyMCPyFCTUvHkfxaGDpxE3vb",
      "include_colab_link": true
    },
    "kernelspec": {
      "name": "python3",
      "display_name": "Python 3"
    },
    "language_info": {
      "name": "python"
    }
  },
  "cells": [
    {
      "cell_type": "markdown",
      "metadata": {
        "id": "view-in-github",
        "colab_type": "text"
      },
      "source": [
        "<a href=\"https://colab.research.google.com/github/Pricrim/Teste_PY/blob/main/Python_Validando_Telefones_BR.ipynb\" target=\"_parent\"><img src=\"https://colab.research.google.com/assets/colab-badge.svg\" alt=\"Open In Colab\"/></a>"
      ]
    },
    {
      "cell_type": "code",
      "execution_count": 33,
      "metadata": {
        "colab": {
          "base_uri": "https://localhost:8080/"
        },
        "id": "MD_Eeq76PmUR",
        "outputId": "fa0f42ae-412e-4f51-dba2-b153665d0f34"
      },
      "outputs": [
        {
          "output_type": "stream",
          "name": "stdout",
          "text": [
            "priscila456@gmail.com\n"
          ]
        }
      ],
      "source": [
        "import re\n",
        "\n",
        "padrao = \"\\w{5,50}@\\w{3,10}.\\w{2,3}\"\n",
        "texto = \"aaaa priscila456@gmail.com tyuiop 788\"\n",
        "resposta = re.search (padrao, texto)\n",
        "print (resposta.group())\n"
      ]
    },
    {
      "cell_type": "code",
      "source": [
        "padrao_molde = \"(xx)aaaaa-wwww\"\n",
        "padrao = \"[0-9]{2}[0-9]{4,5}[0-9]{4}\"\n",
        "texto = \"meu celular é 48984735890 e do pedro é 48964247007\"\n",
        "resposta = re.findall(padrao, texto)\n",
        "print (resposta)"
      ],
      "metadata": {
        "colab": {
          "base_uri": "https://localhost:8080/"
        },
        "id": "XbmMgpYgRH_k",
        "outputId": "21b2d2f8-04b4-4577-f3bb-de4abf20fdef"
      },
      "execution_count": 34,
      "outputs": [
        {
          "output_type": "stream",
          "name": "stdout",
          "text": [
            "['48984735890', '48964247007']\n"
          ]
        }
      ]
    },
    {
      "cell_type": "code",
      "source": [
        "#TelefonsBR\n",
        "import re\n",
        "\n",
        "class TelefonsBR:\n",
        "  def __init__ (self, telefone):\n",
        "    if self.valida_telefone(telefone):\n",
        "      self.numero = telefone\n",
        "    else:\n",
        "      raise ValueError (\"Número inválido!\")\n",
        "\n",
        "  def __str__(self):\n",
        "      return self.format_numero()\n",
        "\n",
        "  def valida_telefone(self, telefone):\n",
        "    padrao = \"([0-9]{2})([0-9]{2})([0-9]{4,5})([0-9]{4})\"\n",
        "    resposta = re.findall(padrao, telefone)\n",
        "    if resposta:\n",
        "      return True\n",
        "    else:\n",
        "      return False\n",
        "\n",
        "  def format_numero(self):\n",
        "      padrao = \"([0-9]{2})([0-9]{2})([0-9]{4,5})([0-9]{4})\"\n",
        "      resposta = re.search (padrao, self.numero)\n",
        "      numero_formatado = \"+{}({}){}-{}\".format(\n",
        "          resposta.group(1),\n",
        "          resposta.group(2),\n",
        "          resposta.group(3),\n",
        "          resposta.group(4)\n",
        "      )\n",
        "      return (numero_formatado)"
      ],
      "metadata": {
        "id": "onXbeHUvU4b0"
      },
      "execution_count": null,
      "outputs": []
    },
    {
      "cell_type": "code",
      "source": [
        "Telefone = \"5548984735890\"\n",
        "telefone_objeto = TelefonsBR (Telefone)\n",
        "print (telefone_objeto)"
      ],
      "metadata": {
        "colab": {
          "base_uri": "https://localhost:8080/"
        },
        "id": "_20BXicRZIa0",
        "outputId": "6593ed7f-2b5a-4a0d-9c88-04169b0ffe4f"
      },
      "execution_count": 35,
      "outputs": [
        {
          "output_type": "stream",
          "name": "stdout",
          "text": [
            "+55(48)98473-5890\n"
          ]
        }
      ]
    }
  ]
}