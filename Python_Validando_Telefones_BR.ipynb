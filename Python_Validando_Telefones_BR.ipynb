{
  "nbformat": 4,
  "nbformat_minor": 0,
  "metadata": {
    "colab": {
      "name": "Python - Validando Telefones BR",
      "provenance": [],
      "authorship_tag": "ABX9TyMZRW+9IYWSjnFBl16EY6Sd",
      "include_colab_link": true
    },
    "kernelspec": {
      "name": "python3",
      "display_name": "Python 3"
    },
    "language_info": {
      "name": "python"
    }
  },
  "cells": [
    {
      "cell_type": "markdown",
      "metadata": {
        "id": "view-in-github",
        "colab_type": "text"
      },
      "source": [
        "<a href=\"https://colab.research.google.com/github/Pricrim/Teste_PY/blob/main/Python_Validando_Telefones_BR.ipynb\" target=\"_parent\"><img src=\"https://colab.research.google.com/assets/colab-badge.svg\" alt=\"Open In Colab\"/></a>"
      ]
    },
    {
      "cell_type": "code",
      "execution_count": 6,
      "metadata": {
        "colab": {
          "base_uri": "https://localhost:8080/"
        },
        "id": "MD_Eeq76PmUR",
        "outputId": "7a3ca38c-0a0b-4f2b-f1f0-ceef8f0a0dc3"
      },
      "outputs": [
        {
          "output_type": "stream",
          "name": "stdout",
          "text": [
            "priscila456@gmail.com\n"
          ]
        }
      ],
      "source": [
        "import re\n",
        "\n",
        "padrao = \"\\w{5,50}@\\w{3,10}.\\w{2,3}\"\n",
        "texto = \"aaaa priscila456@gmail.com tyuiop 788\"\n",
        "resposta = re.search (padrao, texto)\n",
        "print (resposta.group())\n"
      ]
    },
    {
      "cell_type": "code",
      "source": [
        "padrao_molde = \"(xx)aaaaa-wwww\"\n",
        "padrao = \"[0-9]{2}[0-9]{4,5}[0-9]{4}\"\n",
        "texto = \"meu celular é 48995079500 e do pedro é 48903507890\"\n",
        "resposta = re.findall(padrao, texto)\n",
        "print (resposta)"
      ],
      "metadata": {
        "colab": {
          "base_uri": "https://localhost:8080/"
        },
        "id": "XbmMgpYgRH_k",
        "outputId": "474b04f4-9f64-4b15-cca9-20dd04efaf4b"
      },
      "execution_count": 7,
      "outputs": [
        {
          "output_type": "stream",
          "name": "stdout",
          "text": [
            "['48992075580', '48984557897']\n"
          ]
        }
      ]
    },
    {
      "cell_type": "code",
      "source": [
        "#TelefonsBR\n",
        "import re\n",
        "\n",
        "class TelefonsBR:\n",
        "  def __init__ (self, telefone):\n",
        "    if self.valida_telefone(telefone):\n",
        "      self.numero = telefone\n",
        "    else:\n",
        "      raise ValueError (\"Número inválido!\")\n",
        "\n",
        "  def __str__(self):\n",
        "      return self.format_numero()\n",
        "\n",
        "  def valida_telefone(self, telefone):\n",
        "    padrao = \"([0-9]{2})([0-9]{2})([0-9]{4,5})([0-9]{4})\"\n",
        "    resposta = re.findall(padrao, telefone)\n",
        "    if resposta:\n",
        "      return True\n",
        "    else:\n",
        "      return False\n",
        "\n",
        "  def format_numero(self):\n",
        "      padrao = \"([0-9]{2})([0-9]{2})([0-9]{4,5})([0-9]{4})\"\n",
        "      resposta = re.search (padrao, self.numero)\n",
        "      numero_formatado = \"+{}({}){}-{}\".format(\n",
        "          resposta.group(1),\n",
        "          resposta.group(2),\n",
        "          resposta.group(3),\n",
        "          resposta.group(4)\n",
        "      )\n",
        "      return (numero_formatado)"
      ],
      "metadata": {
        "id": "onXbeHUvU4b0"
      },
      "execution_count": 31,
      "outputs": []
    },
    {
      "cell_type": "code",
      "source": [
        "Telefone = \"5548992075580\"\n",
        "telefone_objeto = TelefonsBR (Telefone)\n",
        "print (telefone_objeto)"
      ],
      "metadata": {
        "colab": {
          "base_uri": "https://localhost:8080/"
        },
        "id": "_20BXicRZIa0",
        "outputId": "e494d61e-79c3-4131-fc93-9260422d59f5"
      },
      "execution_count": 32,
      "outputs": [
        {
          "output_type": "stream",
          "name": "stdout",
          "text": [
            "+55(48)99207-5580\n"
          ]
        }
      ]
    }
  ]
}
