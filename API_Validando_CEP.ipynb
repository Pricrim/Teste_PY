{
  "nbformat": 4,
  "nbformat_minor": 0,
  "metadata": {
    "colab": {
      "name": "API - Validando CEP",
      "provenance": [],
      "authorship_tag": "ABX9TyNotIJWyv/r0626IoF/zB8q",
      "include_colab_link": true
    },
    "kernelspec": {
      "name": "python3",
      "display_name": "Python 3"
    },
    "language_info": {
      "name": "python"
    }
  },
  "cells": [
    {
      "cell_type": "markdown",
      "metadata": {
        "id": "view-in-github",
        "colab_type": "text"
      },
      "source": [
        "<a href=\"https://colab.research.google.com/github/Pricrim/Teste_PY/blob/main/API_Validando_CEP.ipynb\" target=\"_parent\"><img src=\"https://colab.research.google.com/assets/colab-badge.svg\" alt=\"Open In Colab\"/></a>"
      ]
    },
    {
      "cell_type": "code",
      "execution_count": 25,
      "metadata": {
        "id": "rIW5u-eymSxo"
      },
      "outputs": [],
      "source": [
        "import requests\n",
        "\n",
        "class BuscaEndereco:\n",
        "\n",
        "  def __init__(self, cep):\n",
        "    cep = str(cep)\n",
        "    if self.cep_e_valido(cep):\n",
        "      self.cep = cep\n",
        "    else:\n",
        "      raise ValueError(\"CEP inválido!\")\n",
        "    \n",
        "  def __str__(self):\n",
        "    return self.format_cep()\n",
        "\n",
        "  def cep_e_valido(self, cep):\n",
        "    if len (cep) == 8:\n",
        "      return True\n",
        "    else:\n",
        "      return False\n",
        "\n",
        "  def format_cep(self):\n",
        "    return \"{}-{}\".format(self.cep[:8],self.cep[8:])\n",
        "\n",
        "  def acessa_via_cep(self):\n",
        "        url = \"https://viacep.com.br/ws/{}/json/\".format(self.cep)\n",
        "        r = requests.get(url)\n",
        "        dados = r.json()\n",
        "        return (\n",
        "            dados['bairro'],\n",
        "            dados['localidade'],\n",
        "            dados['uf']\n",
        "        )\n",
        "\n",
        "    "
      ]
    },
    {
      "cell_type": "code",
      "source": [
        "cep = 88075110\n",
        "objeto_cep = BuscaEndereco(cep)\n",
        "\n",
        "#r = requests.get(\"https://viacep.com.br/ws/88025500/json/\")\n",
        "#print(r.text)\n",
        "\n",
        "bairro, cidade, uf = objeto_cep.acessa_via_cep()\n",
        "print(bairro, cidade, uf)"
      ],
      "metadata": {
        "colab": {
          "base_uri": "https://localhost:8080/"
        },
        "id": "6p-u1TeTndTD",
        "outputId": "61772672-37b2-4206-d2b8-62f74f47ca4d"
      },
      "execution_count": 26,
      "outputs": [
        {
          "output_type": "stream",
          "name": "stdout",
          "text": [
            "Estreito Florianópolis SC\n"
          ]
        }
      ]
    }
  ]
}